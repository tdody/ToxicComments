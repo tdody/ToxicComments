{
 "metadata": {
  "language_info": {
   "codemirror_mode": {
    "name": "ipython",
    "version": 3
   },
   "file_extension": ".py",
   "mimetype": "text/x-python",
   "name": "python",
   "nbconvert_exporter": "python",
   "pygments_lexer": "ipython3",
   "version": "3.8.9"
  },
  "orig_nbformat": 2,
  "kernelspec": {
   "name": "pythonjvsc74a57bd0285f0c52ca504ea4f828ad46c10e09bbb808792a6a820ce246b5e6249fdc20a9",
   "display_name": "Python 3.8.9  ('env': venv)"
  },
  "metadata": {
   "interpreter": {
    "hash": "285f0c52ca504ea4f828ad46c10e09bbb808792a6a820ce246b5e6249fdc20a9"
   }
  }
 },
 "nbformat": 4,
 "nbformat_minor": 2,
 "cells": [
  {
   "cell_type": "code",
   "execution_count": 1,
   "metadata": {},
   "outputs": [],
   "source": [
    "import pandas as pd\n",
    "import numpy as np\n",
    "from tqdm import tqdm\n",
    "\n",
    "from sklearn.feature_extraction.text import TfidfVectorizer\n",
    "from sklearn.preprocessing import MaxAbsScaler"
   ]
  },
  {
   "cell_type": "code",
   "execution_count": 2,
   "metadata": {},
   "outputs": [],
   "source": [
    "train = pd.read_csv('../Dataset/train.csv')\n",
    "test = pd.read_csv('../Dataset/test.csv')"
   ]
  },
  {
   "cell_type": "code",
   "execution_count": 3,
   "metadata": {},
   "outputs": [
    {
     "output_type": "stream",
     "name": "stdout",
     "text": [
      "<class 'pandas.core.frame.DataFrame'>\nRangeIndex: 159571 entries, 0 to 159570\nData columns (total 8 columns):\n #   Column         Non-Null Count   Dtype \n---  ------         --------------   ----- \n 0   id             159571 non-null  object\n 1   comment_text   159571 non-null  object\n 2   toxic          159571 non-null  int64 \n 3   severe_toxic   159571 non-null  int64 \n 4   obscene        159571 non-null  int64 \n 5   threat         159571 non-null  int64 \n 6   insult         159571 non-null  int64 \n 7   identity_hate  159571 non-null  int64 \ndtypes: int64(6), object(2)\nmemory usage: 9.7+ MB\n"
     ]
    }
   ],
   "source": [
    "train.info()"
   ]
  },
  {
   "cell_type": "code",
   "execution_count": 4,
   "metadata": {},
   "outputs": [
    {
     "output_type": "stream",
     "name": "stdout",
     "text": [
      "<class 'pandas.core.frame.DataFrame'>\nRangeIndex: 153164 entries, 0 to 153163\nData columns (total 2 columns):\n #   Column        Non-Null Count   Dtype \n---  ------        --------------   ----- \n 0   id            153164 non-null  object\n 1   comment_text  153164 non-null  object\ndtypes: object(2)\nmemory usage: 2.3+ MB\n"
     ]
    }
   ],
   "source": [
    "test.info()"
   ]
  },
  {
   "cell_type": "code",
   "execution_count": 5,
   "metadata": {},
   "outputs": [
    {
     "output_type": "execute_result",
     "data": {
      "text/plain": [
       "               toxic   severe_toxic        obscene         threat  \\\n",
       "count  159571.000000  159571.000000  159571.000000  159571.000000   \n",
       "mean        0.095844       0.009996       0.052948       0.002996   \n",
       "std         0.294379       0.099477       0.223931       0.054650   \n",
       "min         0.000000       0.000000       0.000000       0.000000   \n",
       "25%         0.000000       0.000000       0.000000       0.000000   \n",
       "50%         0.000000       0.000000       0.000000       0.000000   \n",
       "75%         0.000000       0.000000       0.000000       0.000000   \n",
       "max         1.000000       1.000000       1.000000       1.000000   \n",
       "\n",
       "              insult  identity_hate  \n",
       "count  159571.000000  159571.000000  \n",
       "mean        0.049364       0.008805  \n",
       "std         0.216627       0.093420  \n",
       "min         0.000000       0.000000  \n",
       "25%         0.000000       0.000000  \n",
       "50%         0.000000       0.000000  \n",
       "75%         0.000000       0.000000  \n",
       "max         1.000000       1.000000  "
      ],
      "text/html": "<div>\n<style scoped>\n    .dataframe tbody tr th:only-of-type {\n        vertical-align: middle;\n    }\n\n    .dataframe tbody tr th {\n        vertical-align: top;\n    }\n\n    .dataframe thead th {\n        text-align: right;\n    }\n</style>\n<table border=\"1\" class=\"dataframe\">\n  <thead>\n    <tr style=\"text-align: right;\">\n      <th></th>\n      <th>toxic</th>\n      <th>severe_toxic</th>\n      <th>obscene</th>\n      <th>threat</th>\n      <th>insult</th>\n      <th>identity_hate</th>\n    </tr>\n  </thead>\n  <tbody>\n    <tr>\n      <th>count</th>\n      <td>159571.000000</td>\n      <td>159571.000000</td>\n      <td>159571.000000</td>\n      <td>159571.000000</td>\n      <td>159571.000000</td>\n      <td>159571.000000</td>\n    </tr>\n    <tr>\n      <th>mean</th>\n      <td>0.095844</td>\n      <td>0.009996</td>\n      <td>0.052948</td>\n      <td>0.002996</td>\n      <td>0.049364</td>\n      <td>0.008805</td>\n    </tr>\n    <tr>\n      <th>std</th>\n      <td>0.294379</td>\n      <td>0.099477</td>\n      <td>0.223931</td>\n      <td>0.054650</td>\n      <td>0.216627</td>\n      <td>0.093420</td>\n    </tr>\n    <tr>\n      <th>min</th>\n      <td>0.000000</td>\n      <td>0.000000</td>\n      <td>0.000000</td>\n      <td>0.000000</td>\n      <td>0.000000</td>\n      <td>0.000000</td>\n    </tr>\n    <tr>\n      <th>25%</th>\n      <td>0.000000</td>\n      <td>0.000000</td>\n      <td>0.000000</td>\n      <td>0.000000</td>\n      <td>0.000000</td>\n      <td>0.000000</td>\n    </tr>\n    <tr>\n      <th>50%</th>\n      <td>0.000000</td>\n      <td>0.000000</td>\n      <td>0.000000</td>\n      <td>0.000000</td>\n      <td>0.000000</td>\n      <td>0.000000</td>\n    </tr>\n    <tr>\n      <th>75%</th>\n      <td>0.000000</td>\n      <td>0.000000</td>\n      <td>0.000000</td>\n      <td>0.000000</td>\n      <td>0.000000</td>\n      <td>0.000000</td>\n    </tr>\n    <tr>\n      <th>max</th>\n      <td>1.000000</td>\n      <td>1.000000</td>\n      <td>1.000000</td>\n      <td>1.000000</td>\n      <td>1.000000</td>\n      <td>1.000000</td>\n    </tr>\n  </tbody>\n</table>\n</div>"
     },
     "metadata": {},
     "execution_count": 5
    }
   ],
   "source": [
    "train.describe()"
   ]
  },
  {
   "cell_type": "code",
   "execution_count": 6,
   "metadata": {},
   "outputs": [
    {
     "output_type": "execute_result",
     "data": {
      "text/plain": [
       "                  toxic  severe_toxic   obscene    threat    insult  \\\n",
       "toxic          1.000000      0.308619  0.676515  0.157058  0.647518   \n",
       "severe_toxic   0.308619      1.000000  0.403014  0.123601  0.375807   \n",
       "obscene        0.676515      0.403014  1.000000  0.141179  0.741272   \n",
       "threat         0.157058      0.123601  0.141179  1.000000  0.150022   \n",
       "insult         0.647518      0.375807  0.741272  0.150022  1.000000   \n",
       "identity_hate  0.266009      0.201600  0.286867  0.115128  0.337736   \n",
       "\n",
       "               identity_hate  \n",
       "toxic               0.266009  \n",
       "severe_toxic        0.201600  \n",
       "obscene             0.286867  \n",
       "threat              0.115128  \n",
       "insult              0.337736  \n",
       "identity_hate       1.000000  "
      ],
      "text/html": "<div>\n<style scoped>\n    .dataframe tbody tr th:only-of-type {\n        vertical-align: middle;\n    }\n\n    .dataframe tbody tr th {\n        vertical-align: top;\n    }\n\n    .dataframe thead th {\n        text-align: right;\n    }\n</style>\n<table border=\"1\" class=\"dataframe\">\n  <thead>\n    <tr style=\"text-align: right;\">\n      <th></th>\n      <th>toxic</th>\n      <th>severe_toxic</th>\n      <th>obscene</th>\n      <th>threat</th>\n      <th>insult</th>\n      <th>identity_hate</th>\n    </tr>\n  </thead>\n  <tbody>\n    <tr>\n      <th>toxic</th>\n      <td>1.000000</td>\n      <td>0.308619</td>\n      <td>0.676515</td>\n      <td>0.157058</td>\n      <td>0.647518</td>\n      <td>0.266009</td>\n    </tr>\n    <tr>\n      <th>severe_toxic</th>\n      <td>0.308619</td>\n      <td>1.000000</td>\n      <td>0.403014</td>\n      <td>0.123601</td>\n      <td>0.375807</td>\n      <td>0.201600</td>\n    </tr>\n    <tr>\n      <th>obscene</th>\n      <td>0.676515</td>\n      <td>0.403014</td>\n      <td>1.000000</td>\n      <td>0.141179</td>\n      <td>0.741272</td>\n      <td>0.286867</td>\n    </tr>\n    <tr>\n      <th>threat</th>\n      <td>0.157058</td>\n      <td>0.123601</td>\n      <td>0.141179</td>\n      <td>1.000000</td>\n      <td>0.150022</td>\n      <td>0.115128</td>\n    </tr>\n    <tr>\n      <th>insult</th>\n      <td>0.647518</td>\n      <td>0.375807</td>\n      <td>0.741272</td>\n      <td>0.150022</td>\n      <td>1.000000</td>\n      <td>0.337736</td>\n    </tr>\n    <tr>\n      <th>identity_hate</th>\n      <td>0.266009</td>\n      <td>0.201600</td>\n      <td>0.286867</td>\n      <td>0.115128</td>\n      <td>0.337736</td>\n      <td>1.000000</td>\n    </tr>\n  </tbody>\n</table>\n</div>"
     },
     "metadata": {},
     "execution_count": 6
    }
   ],
   "source": [
    "train.corr()"
   ]
  },
  {
   "cell_type": "code",
   "execution_count": 7,
   "metadata": {},
   "outputs": [
    {
     "output_type": "execute_result",
     "data": {
      "text/plain": [
       "                 id                                       comment_text  toxic  \\\n",
       "0  0000997932d777bf  Explanation\\nWhy the edits made under my usern...      0   \n",
       "1  000103f0d9cfb60f  D'aww! He matches this background colour I'm s...      0   \n",
       "2  000113f07ec002fd  Hey man, I'm really not trying to edit war. It...      0   \n",
       "3  0001b41b1c6bb37e  \"\\nMore\\nI can't make any real suggestions on ...      0   \n",
       "4  0001d958c54c6e35  You, sir, are my hero. Any chance you remember...      0   \n",
       "\n",
       "   severe_toxic  obscene  threat  insult  identity_hate  \n",
       "0             0        0       0       0              0  \n",
       "1             0        0       0       0              0  \n",
       "2             0        0       0       0              0  \n",
       "3             0        0       0       0              0  \n",
       "4             0        0       0       0              0  "
      ],
      "text/html": "<div>\n<style scoped>\n    .dataframe tbody tr th:only-of-type {\n        vertical-align: middle;\n    }\n\n    .dataframe tbody tr th {\n        vertical-align: top;\n    }\n\n    .dataframe thead th {\n        text-align: right;\n    }\n</style>\n<table border=\"1\" class=\"dataframe\">\n  <thead>\n    <tr style=\"text-align: right;\">\n      <th></th>\n      <th>id</th>\n      <th>comment_text</th>\n      <th>toxic</th>\n      <th>severe_toxic</th>\n      <th>obscene</th>\n      <th>threat</th>\n      <th>insult</th>\n      <th>identity_hate</th>\n    </tr>\n  </thead>\n  <tbody>\n    <tr>\n      <th>0</th>\n      <td>0000997932d777bf</td>\n      <td>Explanation\\nWhy the edits made under my usern...</td>\n      <td>0</td>\n      <td>0</td>\n      <td>0</td>\n      <td>0</td>\n      <td>0</td>\n      <td>0</td>\n    </tr>\n    <tr>\n      <th>1</th>\n      <td>000103f0d9cfb60f</td>\n      <td>D'aww! He matches this background colour I'm s...</td>\n      <td>0</td>\n      <td>0</td>\n      <td>0</td>\n      <td>0</td>\n      <td>0</td>\n      <td>0</td>\n    </tr>\n    <tr>\n      <th>2</th>\n      <td>000113f07ec002fd</td>\n      <td>Hey man, I'm really not trying to edit war. It...</td>\n      <td>0</td>\n      <td>0</td>\n      <td>0</td>\n      <td>0</td>\n      <td>0</td>\n      <td>0</td>\n    </tr>\n    <tr>\n      <th>3</th>\n      <td>0001b41b1c6bb37e</td>\n      <td>\"\\nMore\\nI can't make any real suggestions on ...</td>\n      <td>0</td>\n      <td>0</td>\n      <td>0</td>\n      <td>0</td>\n      <td>0</td>\n      <td>0</td>\n    </tr>\n    <tr>\n      <th>4</th>\n      <td>0001d958c54c6e35</td>\n      <td>You, sir, are my hero. Any chance you remember...</td>\n      <td>0</td>\n      <td>0</td>\n      <td>0</td>\n      <td>0</td>\n      <td>0</td>\n      <td>0</td>\n    </tr>\n  </tbody>\n</table>\n</div>"
     },
     "metadata": {},
     "execution_count": 7
    }
   ],
   "source": [
    "train.head()"
   ]
  },
  {
   "cell_type": "code",
   "execution_count": 8,
   "metadata": {},
   "outputs": [
    {
     "output_type": "execute_result",
     "data": {
      "text/plain": [
       "                 id                                       comment_text\n",
       "0  00001cee341fdb12  Yo bitch Ja Rule is more succesful then you'll...\n",
       "1  0000247867823ef7  == From RfC == \\n\\n The title is fine as it is...\n",
       "2  00013b17ad220c46  \" \\n\\n == Sources == \\n\\n * Zawe Ashton on Lap...\n",
       "3  00017563c3f7919a  :If you have a look back at the source, the in...\n",
       "4  00017695ad8997eb          I don't anonymously edit articles at all."
      ],
      "text/html": "<div>\n<style scoped>\n    .dataframe tbody tr th:only-of-type {\n        vertical-align: middle;\n    }\n\n    .dataframe tbody tr th {\n        vertical-align: top;\n    }\n\n    .dataframe thead th {\n        text-align: right;\n    }\n</style>\n<table border=\"1\" class=\"dataframe\">\n  <thead>\n    <tr style=\"text-align: right;\">\n      <th></th>\n      <th>id</th>\n      <th>comment_text</th>\n    </tr>\n  </thead>\n  <tbody>\n    <tr>\n      <th>0</th>\n      <td>00001cee341fdb12</td>\n      <td>Yo bitch Ja Rule is more succesful then you'll...</td>\n    </tr>\n    <tr>\n      <th>1</th>\n      <td>0000247867823ef7</td>\n      <td>== From RfC == \\n\\n The title is fine as it is...</td>\n    </tr>\n    <tr>\n      <th>2</th>\n      <td>00013b17ad220c46</td>\n      <td>\" \\n\\n == Sources == \\n\\n * Zawe Ashton on Lap...</td>\n    </tr>\n    <tr>\n      <th>3</th>\n      <td>00017563c3f7919a</td>\n      <td>:If you have a look back at the source, the in...</td>\n    </tr>\n    <tr>\n      <th>4</th>\n      <td>00017695ad8997eb</td>\n      <td>I don't anonymously edit articles at all.</td>\n    </tr>\n  </tbody>\n</table>\n</div>"
     },
     "metadata": {},
     "execution_count": 8
    }
   ],
   "source": [
    "test.head()"
   ]
  },
  {
   "cell_type": "code",
   "execution_count": 9,
   "metadata": {},
   "outputs": [
    {
     "output_type": "stream",
     "name": "stderr",
     "text": [
      "100%|██████████| 159571/159571 [00:00<00:00, 1342975.47it/s]\n",
      "100%|██████████| 153164/153164 [00:00<00:00, 1385210.66it/s]\n"
     ]
    }
   ],
   "source": [
    "train_comments = train['comment_text'].values\n",
    "test_comments = test['comment_text'].values\n",
    "train_comments_lengths = [len(c) for c in tqdm(train_comments)]\n",
    "test_comments_lengths = [len(c) for c in tqdm(test_comments)]"
   ]
  },
  {
   "cell_type": "code",
   "execution_count": 10,
   "metadata": {},
   "outputs": [
    {
     "output_type": "stream",
     "name": "stdout",
     "text": [
      "---Train---\nMax-length: 5000\nAvg-length: 394.0732213246768\nMin-length: 6\nStandard division 590.7184309382144\nRange 6 1575.5100832011055\n---Test---\nMax-length: 5000\nAvg-length: 364.8751207855632\nMin-length: 1\nStandard division 592.4901645516661\nRange 1 1549.8554498888955\n"
     ]
    }
   ],
   "source": [
    "def explore_comments(arr):\n",
    "    print(\"Max-length:\", np.max(arr))\n",
    "    print(\"Avg-length:\", np.average(arr))\n",
    "    print(\"Min-length:\", np.min(arr))\n",
    "    print(\"Standard division\", np.std(arr))\n",
    "    print(\"Range\", np.min(arr), np.average(arr) + 2 * np.std(arr))\n",
    "\n",
    "print(\"---Train---\")\n",
    "explore_comments(train_comments_lengths)\n",
    "\n",
    "print(\"---Test---\")\n",
    "explore_comments(test_comments_lengths) # select 1600 for Char RNN I guess"
   ]
  },
  {
   "cell_type": "code",
   "execution_count": 11,
   "metadata": {},
   "outputs": [],
   "source": [
    "df = pd.concat([train['comment_text'], test['comment_text']], axis=0)\n",
    "df = df.fillna(\"unknown\") # one na\n",
    "nrow_train = train.shape[0]"
   ]
  },
  {
   "cell_type": "code",
   "execution_count": 12,
   "metadata": {},
   "outputs": [
    {
     "output_type": "stream",
     "name": "stdout",
     "text": [
      "312735\n"
     ]
    }
   ],
   "source": [
    "print(df.shape[0])"
   ]
  },
  {
   "cell_type": "code",
   "execution_count": 13,
   "metadata": {},
   "outputs": [
    {
     "output_type": "execute_result",
     "data": {
      "text/plain": [
       "0    Explanation\\nWhy the edits made under my usern...\n",
       "1    D'aww! He matches this background colour I'm s...\n",
       "2    Hey man, I'm really not trying to edit war. It...\n",
       "3    \"\\nMore\\nI can't make any real suggestions on ...\n",
       "4    You, sir, are my hero. Any chance you remember...\n",
       "Name: comment_text, dtype: object"
      ]
     },
     "metadata": {},
     "execution_count": 13
    }
   ],
   "source": [
    "df.head()"
   ]
  },
  {
   "cell_type": "code",
   "execution_count": 14,
   "metadata": {},
   "outputs": [],
   "source": [
    "vectorizer = TfidfVectorizer(stop_words='english', max_features=50000)\n",
    "data = vectorizer.fit_transform(df)"
   ]
  },
  {
   "cell_type": "code",
   "execution_count": 15,
   "metadata": {},
   "outputs": [
    {
     "output_type": "stream",
     "name": "stdout",
     "text": [
      "  (0, 711)\t0.18204445368864222\n  (0, 879)\t0.20775413789068986\n  (0, 605)\t0.23993680844003243\n  (0, 1318)\t0.2235268466647893\n  (0, 36305)\t0.22284690643148006\n  (0, 31306)\t0.08188817087124552\n  (0, 42143)\t0.08743950124331666\n  (0, 42515)\t0.14963954366164903\n  (0, 35873)\t0.13319854787482097\n  (0, 13540)\t0.0913926564059703\n  (0, 16014)\t0.20891432730918813\n  (0, 13498)\t0.28591283079888064\n  (0, 47786)\t0.18517583907832094\n  (0, 29407)\t0.11534052498326015\n  (0, 46065)\t0.20985647318821948\n  (0, 18058)\t0.21674683272909434\n  (0, 9077)\t0.24494461695137756\n  (0, 23677)\t0.08616056487030553\n  (0, 45415)\t0.28033975873604766\n  (0, 46648)\t0.19787236031077896\n  (0, 36385)\t0.1437615365077495\n  (0, 16224)\t0.18397157427013258\n  (0, 27413)\t0.2690073855580892\n  (0, 19760)\t0.2380133505872249\n  (0, 45208)\t0.16979460216797468\n  :\t:\n  (312733, 12331)\t0.14836541130115016\n  (312733, 28066)\t0.1078417187323574\n  (312733, 25431)\t0.09483013779915266\n  (312733, 40694)\t0.08764497581028433\n  (312733, 39111)\t0.09693465616069533\n  (312733, 2730)\t0.10744573919337337\n  (312733, 31624)\t0.09796953790486407\n  (312733, 23330)\t0.11125072599343373\n  (312733, 32046)\t0.06239960211962929\n  (312733, 1885)\t0.07790593859926745\n  (312733, 43570)\t0.14681164887211834\n  (312733, 36332)\t0.46427008650424945\n  (312733, 24854)\t0.10348875803078253\n  (312733, 43990)\t0.08837962135419057\n  (312733, 34649)\t0.08710319612914366\n  (312733, 22906)\t0.08288556028645151\n  (312733, 13460)\t0.06725921827414208\n  (312734, 15836)\t0.5954145330081482\n  (312734, 32671)\t0.431624690260662\n  (312734, 17135)\t0.3663394535903526\n  (312734, 24167)\t0.26979400018222\n  (312734, 46608)\t0.24751973067365665\n  (312734, 7078)\t0.3291862281120484\n  (312734, 40931)\t0.22827467508789306\n  (312734, 42866)\t0.17449740889478646\n"
     ]
    }
   ],
   "source": [
    "print(data)"
   ]
  },
  {
   "cell_type": "code",
   "execution_count": 16,
   "metadata": {},
   "outputs": [],
   "source": [
    "X = MaxAbsScaler().fit_transform(data)\n",
    "col = ['toxic', 'severe_toxic', 'obscene', 'threat', 'insult', 'identity_hate']\n",
    "preds = np.zeros((test.shape[0], len(col)))"
   ]
  },
  {
   "cell_type": "code",
   "execution_count": 17,
   "metadata": {},
   "outputs": [
    {
     "output_type": "stream",
     "name": "stdout",
     "text": [
      "  (0, 711)\t0.29084092782002846\n  (0, 879)\t0.35152824127566124\n  (0, 605)\t0.4603353338692267\n  (0, 1318)\t0.26978455301496723\n  (0, 36305)\t0.23892339074450406\n  (0, 31306)\t0.08188817087124552\n  (0, 42143)\t0.08743950124331666\n  (0, 42515)\t0.14963954366164903\n  (0, 35873)\t0.13319854787482097\n  (0, 13540)\t0.0913926564059703\n  (0, 16014)\t0.232979260289499\n  (0, 13498)\t0.41153618372855594\n  (0, 47786)\t0.2482892800474848\n  (0, 29407)\t0.11534052498326015\n  (0, 46065)\t0.23460947709299815\n  (0, 18058)\t0.21674683272909434\n  (0, 9077)\t0.37143933583085614\n  (0, 23677)\t0.08616056487030553\n  (0, 45415)\t0.30649754459641687\n  (0, 46648)\t0.2793507839722064\n  (0, 36385)\t0.1437615365077495\n  (0, 16224)\t0.2275683259151828\n  (0, 27413)\t0.39268853302997914\n  (0, 19760)\t0.3084612023438448\n  (0, 45208)\t0.1908544860554389\n  :\t:\n  (312733, 12331)\t0.14836541130115016\n  (312733, 28066)\t0.17029198723838934\n  (312733, 25431)\t0.09483013779915266\n  (312733, 40694)\t0.1170500282830148\n  (312733, 39111)\t0.09693465616069533\n  (312733, 2730)\t0.10744573919337337\n  (312733, 31624)\t0.09796953790486407\n  (312733, 23330)\t0.11125072599343373\n  (312733, 32046)\t0.06239960211962929\n  (312733, 1885)\t0.07790593859926745\n  (312733, 43570)\t0.2678858177000968\n  (312733, 36332)\t0.46427008650424945\n  (312733, 24854)\t0.11855152329452956\n  (312733, 43990)\t0.08837962135419057\n  (312733, 34649)\t0.08710319612914366\n  (312733, 22906)\t0.08288556028645151\n  (312733, 13460)\t0.08190032342335499\n  (312734, 15836)\t1.0\n  (312734, 32671)\t0.5178808862274807\n  (312734, 17135)\t0.3663394535903526\n  (312734, 24167)\t0.26979400018222\n  (312734, 46608)\t0.24751973067365665\n  (312734, 7078)\t0.3291862281120484\n  (312734, 40931)\t0.22827467508789306\n  (312734, 42866)\t0.17449740889478646\n"
     ]
    }
   ],
   "source": [
    "print(X)"
   ]
  },
  {
   "cell_type": "code",
   "execution_count": 48,
   "metadata": {},
   "outputs": [
    {
     "output_type": "stream",
     "name": "stderr",
     "text": [
      "100%|██████████| 159571/159571 [00:01<00:00, 125723.28it/s]\n",
      "100%|██████████| 153164/153164 [00:01<00:00, 131313.21it/s]\n"
     ]
    }
   ],
   "source": [
    "# number of unique words\n",
    "total_words = 0\n",
    "unique_words = []\n",
    "for comment in tqdm(train_comments):\n",
    "    words = comment.split(\" \")\n",
    "    total_words += len(words)\n",
    "    unique_words += words\n",
    "for comment in tqdm(test_comments):\n",
    "    words = comment.split(\" \")\n",
    "    total_words += len(words)\n",
    "    unique_words += words\n",
    "\n",
    "unique_words = set(unique_words)"
   ]
  },
  {
   "cell_type": "code",
   "execution_count": 50,
   "metadata": {},
   "outputs": [
    {
     "output_type": "stream",
     "name": "stdout",
     "text": [
      "20,850,985 total words\n1,043,267 unique words\n"
     ]
    }
   ],
   "source": [
    "print(\"{:,.0f} total words\".format(total))\n",
    "print(\"{:,.0f} unique words\".format(len(unique_words)))"
   ]
  },
  {
   "source": [
    "# Embeddings"
   ],
   "cell_type": "markdown",
   "metadata": {}
  },
  {
   "cell_type": "code",
   "execution_count": 6,
   "metadata": {},
   "outputs": [
    {
     "output_type": "stream",
     "name": "stdout",
     "text": [
      "bad-words.csv              glove.twitter.27B.200d.txt\nbig.txt                    glove.twitter.27B.25d.txt\ncleanwords.txt             glove.twitter.27B.50d.txt\ncrawl-300d-2M.vec          spellcheck.ipynb\nenglish_words_479k.txt     spellcheckcorrector.ipynb\nglove.840B.300d.txt        typo_correction.ipynb\nglove.twitter.27B.100d.txt\n"
     ]
    }
   ],
   "source": [
    "!ls ../Features/"
   ]
  },
  {
   "cell_type": "code",
   "execution_count": 12,
   "metadata": {},
   "outputs": [
    {
     "output_type": "stream",
     "name": "stdout",
     "text": [
      "\u001b[34mDataset\u001b[m\u001b[m          \u001b[34mbaselines\u001b[m\u001b[m        results.txt\n\u001b[34mEmbeddings\u001b[m\u001b[m       clean_data.ipynb \u001b[34msotoxic\u001b[m\u001b[m\n\u001b[34mFeatures\u001b[m\u001b[m         \u001b[34menv\u001b[m\u001b[m              \u001b[34mtools\u001b[m\u001b[m\n"
     ]
    }
   ],
   "source": [
    "!ls .."
   ]
  },
  {
   "cell_type": "code",
   "execution_count": 1,
   "metadata": {},
   "outputs": [],
   "source": [
    "import sys\n",
    "sys.path.append(\"..\")\n",
    "\n",
    "import sotoxic\n",
    "from sotoxic.config import dataset_config, model_config\n",
    "from sotoxic.data_helper import data_loader"
   ]
  },
  {
   "cell_type": "code",
   "execution_count": 2,
   "metadata": {},
   "outputs": [],
   "source": [
    "dl = data_loader.DataLoader()"
   ]
  },
  {
   "cell_type": "code",
   "execution_count": 3,
   "metadata": {},
   "outputs": [
    {
     "output_type": "stream",
     "name": "stdout",
     "text": [
      "bad-words.csv              glove.twitter.27B.200d.txt\nbig.txt                    glove.twitter.27B.25d.txt\ncleanwords.txt             glove.twitter.27B.50d.txt\ncrawl-300d-2M.vec          spellcheck.ipynb\nenglish_words_479k.txt     spellcheckcorrector.ipynb\nglove.840B.300d.txt        typo_correction.ipynb\nglove.twitter.27B.100d.txt\n"
     ]
    }
   ],
   "source": [
    "!ls ../Features/"
   ]
  },
  {
   "cell_type": "code",
   "execution_count": 4,
   "metadata": {
    "tags": []
   },
   "outputs": [
    {
     "output_type": "stream",
     "name": "stderr",
     "text": [
      "54481it [00:04, 13404.36it/s]Err on  ['.', '.']\n",
      "129704it [00:09, 12229.42it/s]Err on  ['at', 'name@domain.com']\n",
      "153377it [00:11, 14315.27it/s]Err on  ['.', '.']\n",
      "202206it [00:15, 14212.85it/s]Err on  ['to', 'name@domain.com']\n",
      "212487it [00:16, 14737.02it/s]Err on  ['.', '.']\n",
      "223141it [00:17, 13473.54it/s]Err on  ['.', '.']\n",
      "255106it [00:19, 12991.09it/s]Err on  ['email', 'name@domain.com']\n",
      "368198it [00:27, 13680.47it/s]Err on  ['or', 'name@domain.com']\n",
      "534556it [00:40, 13132.46it/s]Err on  ['contact', 'name@domain.com']\n",
      "718663it [00:58, 8588.96it/s]Err on  ['Email', 'name@domain.com']\n",
      "995488it [01:25, 6032.90it/s]Err on  ['on', 'name@domain.com']\n",
      "1124470it [01:38, 12424.82it/s]Err on  ['At', 'Killerseats.com']\n",
      "1150111it [01:41, 8114.20it/s]Err on  ['by', 'name@domain.com']\n",
      "1353887it [02:05, 10877.11it/s]Err on  ['in', 'mylot.com']\n",
      "1501292it [02:19, 11466.68it/s]Err on  ['emailing', 'name@domain.com']\n",
      "1535338it [02:22, 11766.22it/s]Err on  ['Contact', 'name@domain.com']\n",
      "1902017it [03:01, 13771.61it/s]Err on  ['at', 'name@domain.com']\n",
      "1923967it [03:03, 13323.27it/s]Err on  ['•', 'name@domain.com']\n",
      "2061054it [03:14, 9537.66it/s]Err on  ['at', 'Amazon.com']\n",
      "2167214it [03:24, 13076.18it/s]Err on  ['is', 'name@domain.com']\n",
      "2196017it [03:27, 10593.76it/s]Total 2195884 word vectors.\n",
      "\n"
     ]
    }
   ],
   "source": [
    "embedding_index = dl.load_embedding(\"../Features/glove.840B.300d.txt\")"
   ]
  },
  {
   "cell_type": "code",
   "execution_count": 8,
   "metadata": {},
   "outputs": [
    {
     "output_type": "execute_result",
     "data": {
      "text/plain": [
       "['.', 'the', 'and', 'to']"
      ]
     },
     "metadata": {},
     "execution_count": 8
    }
   ],
   "source": [
    "list(embedding_index.keys())[1:5]"
   ]
  },
  {
   "cell_type": "code",
   "execution_count": 9,
   "metadata": {},
   "outputs": [
    {
     "output_type": "execute_result",
     "data": {
      "text/plain": [
       "array([-1.8567e-01,  6.6008e-02, -2.5209e-01, -1.1725e-01,  2.6513e-01,\n",
       "        6.4908e-02,  1.2291e-01, -9.3979e-02,  2.4321e-02,  2.4926e+00,\n",
       "       -1.7916e-02, -7.1218e-02, -2.4782e-01, -2.6237e-01, -2.2460e-01,\n",
       "       -2.1961e-01, -1.2927e-01,  1.0867e+00, -6.6072e-01, -3.1617e-02,\n",
       "       -5.7328e-02,  5.6903e-02, -2.7939e-01, -3.9825e-01,  1.4251e-01,\n",
       "       -8.5146e-02, -1.4779e-01,  5.5067e-02, -2.8687e-03, -2.0917e-01,\n",
       "       -7.0735e-02,  2.2577e-01, -1.5881e-01, -1.0395e-01,  9.7110e-02,\n",
       "       -5.6251e-01, -3.2929e-01, -2.0853e-01,  9.8711e-03,  4.9777e-02,\n",
       "        1.4883e-03,  1.5884e-01,  4.2771e-02, -2.6956e-03, -2.4620e-02,\n",
       "       -1.9213e-01, -2.2556e-01,  1.0838e-01,  9.0086e-02, -1.3291e-01,\n",
       "        3.2559e-01, -1.7038e-01, -1.0990e-01, -2.3986e-01, -2.4289e-02,\n",
       "        1.4656e-02, -2.3700e-01,  8.4828e-02, -3.5982e-01, -7.6746e-02,\n",
       "        4.8909e-02,  1.1431e-01, -2.1013e-01,  2.4765e-01, -1.7531e-02,\n",
       "       -1.4028e-01,  4.6191e-02,  2.2972e-01,  1.1750e-01,  1.2724e-01,\n",
       "        1.2992e-02,  4.5870e-01,  4.1085e-01,  3.9106e-02,  1.5713e-01,\n",
       "       -1.8376e-01,  2.6834e-01,  5.6662e-02,  1.6844e-01, -5.3788e-02,\n",
       "       -9.1892e-02,  1.1193e-01, -8.6810e-02, -1.3324e-01,  1.5062e-01,\n",
       "       -3.1733e-01, -2.2078e-01,  2.5038e-01,  3.4131e-01,  3.6419e-01,\n",
       "       -8.9514e-02, -2.2193e-01,  2.4471e-01,  4.0091e-02,  4.7798e-01,\n",
       "       -2.9996e-02,  1.9212e-03,  6.3511e-02, -2.0417e-01, -2.6478e-01,\n",
       "        2.0649e-01,  1.5573e-02, -2.7722e-01, -1.8861e-01, -1.0289e-01,\n",
       "       -4.9773e-01,  1.4986e-01, -1.0877e-02,  2.5085e-01, -2.8117e-01,\n",
       "        1.8966e-01, -6.5879e-02,  9.4753e-02, -1.5338e-01, -5.5071e-02,\n",
       "       -3.6747e-01,  2.4993e-01,  9.6527e-02,  2.3538e-01,  1.8405e-01,\n",
       "        5.2859e-02,  2.2967e-01,  1.2582e-01,  1.5536e-01, -1.7275e-01,\n",
       "        3.3946e-01, -1.0049e-01,  7.4948e-02, -9.3575e-02, -4.0490e-02,\n",
       "       -1.6922e-02, -5.8039e-03, -1.8108e-01,  1.9537e-01,  4.5178e-01,\n",
       "        1.0965e-01,  2.3370e-01, -9.9050e-02, -7.8633e-02,  2.1678e-01,\n",
       "       -7.1231e-01, -9.9759e-02,  3.3333e-01, -1.6460e-01, -9.1688e-02,\n",
       "        2.1056e-01,  2.3669e-02,  2.8922e-02,  1.1990e-01, -1.2512e-01,\n",
       "       -2.6037e-02, -6.2217e-02,  5.5816e-01,  5.0273e-03, -3.0888e-01,\n",
       "        3.8611e-02,  1.7568e-01, -1.1163e-01, -1.0815e-01, -1.9444e-01,\n",
       "        2.9433e-01,  1.4519e-01, -4.2878e-02,  1.8534e-01,  1.8891e-02,\n",
       "       -6.1883e-01,  1.3352e-01,  3.6007e-02,  3.3995e-01,  2.2109e-01,\n",
       "       -7.9328e-02,  7.1319e-02,  1.7678e-01,  1.6378e-01, -2.3142e-01,\n",
       "       -1.4340e-01, -9.8122e-02, -1.9286e-02,  2.3560e-01, -3.4013e-01,\n",
       "       -6.1007e-02, -2.3208e-01, -3.1152e-01,  1.0063e-01, -1.5957e-01,\n",
       "        2.0183e-01, -1.6345e-02, -1.2303e-01,  2.2667e-02, -2.0986e-01,\n",
       "       -2.0127e-01, -8.7883e-02,  6.4731e-02,  1.0195e-01, -1.7860e-01,\n",
       "        3.3056e-01,  2.1407e-01, -3.2165e-01, -1.7106e-01,  1.9407e-01,\n",
       "       -3.8618e-01, -2.1480e-01, -5.2254e-02,  2.3175e-02,  4.7389e-01,\n",
       "        1.8612e-01,  1.2711e-01,  2.0855e-01, -1.0256e-01, -1.2016e-01,\n",
       "       -4.0488e-01,  2.9695e-02, -2.7419e-02, -8.5227e-03, -1.1415e-01,\n",
       "        8.1134e-02, -1.7228e-01,  1.9142e-01,  2.6514e-02,  4.3789e-02,\n",
       "       -1.2399e-01,  1.3354e-01,  1.0112e-01,  8.1682e-02, -1.5085e-01,\n",
       "        7.5806e-03, -1.8971e-01,  2.4669e-01,  2.2491e-01,  3.5553e-01,\n",
       "       -3.2770e-01, -2.1821e-01,  1.4020e-01,  2.8604e-01,  5.5226e-02,\n",
       "       -8.6544e-02,  2.1110e-02, -1.9236e-01,  7.4245e-02,  7.6782e-02,\n",
       "        8.1666e-04,  3.4097e-02, -5.7719e-01,  1.0657e-01,  2.8134e-01,\n",
       "       -1.1964e-01, -6.8281e-01, -3.2893e-01, -2.4442e-01, -2.5847e-02,\n",
       "        9.1273e-03,  2.0250e-01, -5.0959e-02, -1.1042e-01,  1.0962e-02,\n",
       "        7.6773e-02,  4.0048e-01, -4.0739e-01, -4.4773e-01,  3.1954e-01,\n",
       "       -3.6326e-02, -1.2789e-02, -1.7282e-01,  1.4760e-01,  2.3560e-01,\n",
       "        8.0642e-02, -3.6528e-01, -8.3443e-03,  6.2390e-01, -2.4379e-01,\n",
       "        1.9917e-02, -2.8803e-01, -1.0494e-02,  3.8412e-02, -1.1718e-01,\n",
       "       -7.2462e-02,  1.6381e-01,  3.8488e-01, -2.9783e-02,  2.3444e-01,\n",
       "        4.5320e-01,  1.4815e-01, -2.7021e-02, -7.3181e-02, -1.1470e-01,\n",
       "       -5.4545e-03,  4.7796e-01,  9.0912e-02,  9.4489e-02, -3.6882e-01,\n",
       "       -5.9396e-01, -9.7729e-02,  2.0072e-01,  1.7055e-01, -4.7356e-03,\n",
       "       -3.9709e-02,  3.2498e-01, -2.3452e-02,  1.2302e-01,  3.3120e-01],\n",
       "      dtype=float32)"
      ]
     },
     "metadata": {},
     "execution_count": 9
    }
   ],
   "source": [
    "embedding_index['and']"
   ]
  },
  {
   "cell_type": "code",
   "execution_count": null,
   "metadata": {},
   "outputs": [],
   "source": []
  }
 ]
}