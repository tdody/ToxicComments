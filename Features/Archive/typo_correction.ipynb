{
 "metadata": {
  "language_info": {
   "codemirror_mode": {
    "name": "ipython",
    "version": 3
   },
   "file_extension": ".py",
   "mimetype": "text/x-python",
   "name": "python",
   "nbconvert_exporter": "python",
   "pygments_lexer": "ipython3",
   "version": "3.8.9"
  },
  "orig_nbformat": 2,
  "kernelspec": {
   "name": "python389jvsc74a57bd0285f0c52ca504ea4f828ad46c10e09bbb808792a6a820ce246b5e6249fdc20a9",
   "display_name": "Python 3.8.9 64-bit ('env': venv)"
  },
  "metadata": {
   "interpreter": {
    "hash": "285f0c52ca504ea4f828ad46c10e09bbb808792a6a820ce246b5e6249fdc20a9"
   }
  }
 },
 "nbformat": 4,
 "nbformat_minor": 2,
 "cells": [
  {
   "cell_type": "code",
   "execution_count": 21,
   "metadata": {},
   "outputs": [],
   "source": [
    "import numpy as np\n",
    "import pandas as pd\n",
    "from spellchecker import SpellChecker\n",
    "import re\n",
    "from nltk.tokenize import word_tokenize"
   ]
  },
  {
   "cell_type": "code",
   "execution_count": 3,
   "metadata": {},
   "outputs": [],
   "source": [
    "train_data = pd.read_csv(\"../Dataset/train.csv\")\n",
    "test_data = pd.read_csv(\"../Dataset/train.csv\")"
   ]
  },
  {
   "cell_type": "code",
   "execution_count": 12,
   "metadata": {},
   "outputs": [
    {
     "output_type": "execute_result",
     "data": {
      "text/plain": [
       "(319142, 1)"
      ]
     },
     "metadata": {},
     "execution_count": 12
    }
   ],
   "source": [
    "full_data = pd.concat([train_data[['comment_text']], test_data[['comment_text']]])\n",
    "full_data.shape"
   ]
  },
  {
   "cell_type": "code",
   "execution_count": null,
   "metadata": {},
   "outputs": [],
   "source": [
    "# remove punctuation\n",
    "\n",
    "# remove digits\n",
    "\n",
    "# lowercasing\n",
    "\n",
    "#"
   ]
  },
  {
   "cell_type": "code",
   "execution_count": null,
   "metadata": {},
   "outputs": [],
   "source": []
  },
  {
   "cell_type": "code",
   "execution_count": null,
   "metadata": {},
   "outputs": [],
   "source": []
  },
  {
   "cell_type": "code",
   "execution_count": 15,
   "metadata": {},
   "outputs": [
    {
     "output_type": "stream",
     "name": "stdout",
     "text": [
      "happenning\n{'happenning', 'hapening'}\n"
     ]
    }
   ],
   "source": [
    "spell = SpellChecker()\n",
    "\n",
    "# find those words that may be misspelled\n",
    "misspelled = spell.unknown(['something', 'is', 'hapenning', 'here', 'fuck'])\n",
    "\n",
    "for word in misspelled:\n",
    "    # Get the one `most likely` answer\n",
    "    print(spell.correction(word))\n",
    "\n",
    "    # Get a list of `likely` options\n",
    "    print(spell.candidates(word))"
   ]
  },
  {
   "cell_type": "code",
   "execution_count": 70,
   "metadata": {},
   "outputs": [
    {
     "output_type": "stream",
     "name": "stdout",
     "text": [
      "\"\n",
      "Fair use rationale for Image:Wonju.jpg\n",
      "\n",
      "Thanks for uploading Image:Wonju.jpg. I notice the image page specifies that the image is being used under fair use but there is no explanation or rationale as to why its use in Wikipedia articles constitutes fair use. In addition to the boilerplate fair use template, you must also write out on the image description page a specific explanation or rationale for why using this image in each article is consistent with fair use.\n",
      "\n",
      "Please go to the image description page and edit it to include a fair use rationale.\n",
      "\n",
      "If you have uploaded other fair use media, consider checking that you have specified the fair use rationale on those pages too. You can find a list of 'image' pages you have edited by clicking on the \"\"my contributions\"\" link (it is located at the very top of any Wikipedia page when you are logged in), and then selecting \"\"Image\"\" from the dropdown box. Note that any fair use images uploaded after 4 May, 2006, and lacking such an explanation will be deleted one week after they have been uploaded, as described on criteria for speedy deletion. If you have any questions please ask them at the Media copyright questions page. Thank you. (talk • contribs • ) \n",
      "Unspecified source for Image:Wonju.jpg\n",
      "\n",
      "Thanks for uploading Image:Wonju.jpg. I noticed that the file's description page currently doesn't specify who created the content, so the copyright status is unclear. If you did not create this file yourself, then you will need to specify the owner of the copyright. If you obtained it from a website, then a link to the website from which it was taken, together with a restatement of that website's terms of use of its content, is usually sufficient information. However, if the copyright holder is different from the website's publisher, then their copyright should also be acknowledged.\n",
      "\n",
      "As well as adding the source, please add a proper copyright licensing tag if the file doesn't have one already. If you created/took the picture, audio, or video then the  tag can be used to release it under the GFDL. If you believe the media meets the criteria at Wikipedia:Fair use, use a tag such as  or one of the other tags listed at Wikipedia:Image copyright tags#Fair use. See Wikipedia:Image copyright tags for the full list of copyright tags that you can use.\n",
      "\n",
      "If you have uploaded other files, consider checking that you have specified their source and tagged them, too. You can find a list of files you have uploaded by following [ this link]. Unsourced and untagged images may be deleted one week after they have been tagged, as described on criteria for speedy deletion. If the image is copyrighted under a non-free license (per Wikipedia:Fair use) then the image will be deleted 48 hours after . If you have any questions please ask them at the Media copyright questions page. Thank you. (talk • contribs • ) \"\n",
      "\n",
      "\n",
      " fair use rationale for image wonju jpg thanks for uploading image wonju jpg i notice the image page specifies that the image is being used under fair use but there is no explanation or rationale as to why its use in wikipedia articles constitutes fair use in addition to the boilerplate fair use template you must also write out on the image description page a specific explanation or rationale for why using this image in each article is consistent with fair use please go to the image description page and edit it to include a fair use rationale if you have uploaded other fair use media consider checking that you have specified the fair use rationale on those pages too you can find a list of image pages you have edited by clicking on the my contributions link it is located at the very top of any wikipedia page when you are logged in and then selecting image from the dropdown box note that any fair use images uploaded after may and lacking such an explanation will be deleted one week after they have been uploaded as described on criteria for speedy deletion if you have any questions please ask them at the media copyright questions page thank you talk contribs unspecified source for image wonju jpg thanks for uploading image wonju jpg i noticed that the file s description page currently does not specify who created the content so the copyright status is unclear if you did not create this file yourself then you will need to specify the owner of the copyright if you obtained it from a website then a link to the website from which it was taken together with a restatement of that website s terms of use of its content is usually sufficient information however if the copyright holder is different from the website s publisher then their copyright should also be acknowledged as well as adding the source please add a proper copyright licensing tag if the file does not have one already if you created took the picture audio or video then the tag can be used to release it under the if you believe the media meets the criteria at wikipedia fair use use a tag such as or one of the other tags listed at wikipedia image copyright tags fair use see wikipedia image copyright tags for the full list of copyright tags that you can use if you have uploaded other files consider checking that you have specified their source and tagged them too you can find a list of files you have uploaded by following this link unsourced and untagged images may be deleted one week after they have been tagged as described on criteria for speedy deletion if the image is copyrighted under a non free license per wikipedia fair use then the image will be deleted hours after if you have any questions please ask them at the media copyright questions page thank you talk contribs \n",
      "\n",
      "\n",
      "['fair', 'use', 'rationale', 'for', 'image', 'wonju', 'jpg', 'thanks', 'for', 'uploading', 'image', 'wonju', 'jpg', 'i', 'notice', 'the', 'image', 'page', 'specifies', 'that', 'the', 'image', 'is', 'being', 'used', 'under', 'fair', 'use', 'but', 'there', 'is', 'no', 'explanation', 'or', 'rationale', 'as', 'to', 'why', 'its', 'use', 'in', 'wikipedia', 'articles', 'constitutes', 'fair', 'use', 'in', 'addition', 'to', 'the', 'boilerplate', 'fair', 'use', 'template', 'you', 'must', 'also', 'write', 'out', 'on', 'the', 'image', 'description', 'page', 'a', 'specific', 'explanation', 'or', 'rationale', 'for', 'why', 'using', 'this', 'image', 'in', 'each', 'article', 'is', 'consistent', 'with', 'fair', 'use', 'please', 'go', 'to', 'the', 'image', 'description', 'page', 'and', 'edit', 'it', 'to', 'include', 'a', 'fair', 'use', 'rationale', 'if', 'you', 'have', 'uploaded', 'other', 'fair', 'use', 'media', 'consider', 'checking', 'that', 'you', 'have', 'specified', 'the', 'fair', 'use', 'rationale', 'on', 'those', 'pages', 'too', 'you', 'can', 'find', 'a', 'list', 'of', 'image', 'pages', 'you', 'have', 'edited', 'by', 'clicking', 'on', 'the', 'my', 'contributions', 'link', 'it', 'is', 'located', 'at', 'the', 'very', 'top', 'of', 'any', 'wikipedia', 'page', 'when', 'you', 'are', 'logged', 'in', 'and', 'then', 'selecting', 'image', 'from', 'the', 'dropdown', 'box', 'note', 'that', 'any', 'fair', 'use', 'images', 'uploaded', 'after', 'may', 'and', 'lacking', 'such', 'an', 'explanation', 'will', 'be', 'deleted', 'one', 'week', 'after', 'they', 'have', 'been', 'uploaded', 'as', 'described', 'on', 'criteria', 'for', 'speedy', 'deletion', 'if', 'you', 'have', 'any', 'questions', 'please', 'ask', 'them', 'at', 'the', 'media', 'copyright', 'questions', 'page', 'thank', 'you', 'talk', 'contribs', 'unspecified', 'source', 'for', 'image', 'wonju', 'jpg', 'thanks', 'for', 'uploading', 'image', 'wonju', 'jpg', 'i', 'noticed', 'that', 'the', 'file', 's', 'description', 'page', 'currently', 'does', 'not', 'specify', 'who', 'created', 'the', 'content', 'so', 'the', 'copyright', 'status', 'is', 'unclear', 'if', 'you', 'did', 'not', 'create', 'this', 'file', 'yourself', 'then', 'you', 'will', 'need', 'to', 'specify', 'the', 'owner', 'of', 'the', 'copyright', 'if', 'you', 'obtained', 'it', 'from', 'a', 'website', 'then', 'a', 'link', 'to', 'the', 'website', 'from', 'which', 'it', 'was', 'taken', 'together', 'with', 'a', 'restatement', 'of', 'that', 'website', 's', 'terms', 'of', 'use', 'of', 'its', 'content', 'is', 'usually', 'sufficient', 'information', 'however', 'if', 'the', 'copyright', 'holder', 'is', 'different', 'from', 'the', 'website', 's', 'publisher', 'then', 'their', 'copyright', 'should', 'also', 'be', 'acknowledged', 'as', 'well', 'as', 'adding', 'the', 'source', 'please', 'add', 'a', 'proper', 'copyright', 'licensing', 'tag', 'if', 'the', 'file', 'does', 'not', 'have', 'one', 'already', 'if', 'you', 'created', 'took', 'the', 'picture', 'audio', 'or', 'video', 'then', 'the', 'tag', 'can', 'be', 'used', 'to', 'release', 'it', 'under', 'the', 'if', 'you', 'believe', 'the', 'media', 'meets', 'the', 'criteria', 'at', 'wikipedia', 'fair', 'use', 'use', 'a', 'tag', 'such', 'as', 'or', 'one', 'of', 'the', 'other', 'tags', 'listed', 'at', 'wikipedia', 'image', 'copyright', 'tags', 'fair', 'use', 'see', 'wikipedia', 'image', 'copyright', 'tags', 'for', 'the', 'full', 'list', 'of', 'copyright', 'tags', 'that', 'you', 'can', 'use', 'if', 'you', 'have', 'uploaded', 'other', 'files', 'consider', 'checking', 'that', 'you', 'have', 'specified', 'their', 'source', 'and', 'tagged', 'them', 'too', 'you', 'can', 'find', 'a', 'list', 'of', 'files', 'you', 'have', 'uploaded', 'by', 'following', 'this', 'link', 'unsourced', 'and', 'untagged', 'images', 'may', 'be', 'deleted', 'one', 'week', 'after', 'they', 'have', 'been', 'tagged', 'as', 'described', 'on', 'criteria', 'for', 'speedy', 'deletion', 'if', 'the', 'image', 'is', 'copyrighted', 'under', 'a', 'non', 'free', 'license', 'per', 'wikipedia', 'fair', 'use', 'then', 'the', 'image', 'will', 'be', 'deleted', 'hours', 'after', 'if', 'you', 'have', 'any', 'questions', 'please', 'ask', 'them', 'at', 'the', 'media', 'copyright', 'questions', 'page', 'thank', 'you', 'talk', 'contribs']\n",
      "error: jpg\n",
      "correction:  jog\n",
      "error: unsourced\n",
      "correction:  sourced\n",
      "error: wonju\n",
      "correction:  won't\n",
      "error: s\n",
      "correction:  i\n",
      "error: dropdown\n",
      "correction:  drawdown\n",
      "error: contribs\n",
      "correction:  contrib\n",
      "error: untagged\n",
      "correction:  tagged\n"
     ]
    }
   ],
   "source": [
    "for j in range(10,11):\n",
    "\n",
    "\n",
    "    text = train_data.loc[j,\"comment_text\"]\n",
    "    print(text)\n",
    "\n",
    "    text = re.sub(r\"\\b[A-Z]{2,}\\b\", \" \", text)\n",
    "\n",
    "    text = str.lower(text)\n",
    "\n",
    "    text = re.sub(\"n't\", \" not\", text)\n",
    "    text = re.sub(\"i'm\", \"i am\", text)\n",
    "    text = re.sub(r\"\\d+\", \"\", text)\n",
    "    text = re.sub(r\"\\n\", \" \", text)\n",
    "    text = re.sub(\"d'\", \"\", text)\n",
    "\n",
    "\n",
    "    text = re.sub(r\"[^A-Za-z0-9\\s]\", \" \", text)\n",
    "    text = re.sub(r\"\\s+\", \" \", text)\n",
    "    \n",
    "\n",
    "    # remove all caps\n",
    "\n",
    "    # remove URL\n",
    "\n",
    "    # remove file names\n",
    "\n",
    "    tokens = word_tokenize(text,)\n",
    "    print(\"\\n\")\n",
    "    print(text)\n",
    "    print(\"\\n\")\n",
    "    print(tokens)\n",
    "    misspelled = spell.unknown(tokens)\n",
    "\n",
    "    for word in misspelled:\n",
    "        print(\"error:\",word)\n",
    "        # Get the one `most likely` answer\n",
    "        print(\"correction: \",spell.correction(word))"
   ]
  },
  {
   "cell_type": "code",
   "execution_count": null,
   "metadata": {},
   "outputs": [],
   "source": [
    "vandalism\n",
    "vandalism"
   ]
  },
  {
   "cell_type": "code",
   "execution_count": 34,
   "metadata": {},
   "outputs": [
    {
     "output_type": "execute_result",
     "data": {
      "text/plain": [
       "\"Explanation\\nWhy the edits made under my username Hardcore Metallica Fan were reverted? They weren't vandalisms, just closure on some GAs after I voted at New York Dolls FAC. And please don't remove the template from the talk page since I'm retired now.89.205.38.27\""
      ]
     },
     "metadata": {},
     "execution_count": 34
    }
   ],
   "source": [
    "train_data.loc[0,\"comment_text\"]"
   ]
  },
  {
   "cell_type": "code",
   "execution_count": null,
   "metadata": {},
   "outputs": [],
   "source": []
  }
 ]
}